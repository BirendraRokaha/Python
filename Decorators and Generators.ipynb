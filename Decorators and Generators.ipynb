{
 "cells": [
  {
   "cell_type": "code",
   "execution_count": null,
   "metadata": {},
   "outputs": [],
   "source": [
    "# Decorators and Generators\n",
    "\n",
    "\n",
    "'''\n",
    "    Common terms necessary to understand Generators and Decorators\n",
    "    \n",
    "    First class function allows us to treat functions as variables\n",
    "\n",
    "'''"
   ]
  },
  {
   "cell_type": "code",
   "execution_count": 60,
   "metadata": {},
   "outputs": [
    {
     "name": "stdout",
     "output_type": "stream",
     "text": [
      "Area is 1256.0\n"
     ]
    }
   ],
   "source": [
    "# Exmple of first class function\n",
    "\n",
    "def area_circle(radius):\n",
    "    pi = 3.14\n",
    "#     print (f'The area is {pi*(radius**2)}')\n",
    "    return pi*(radius**2)\n",
    "    \n",
    "# This function is turned into a variable \n",
    "# The function is not executed therefore no () at the end\n",
    "\n",
    "area = area_circle\n",
    "\n",
    "print(f\"Area is {area(20)}\")"
   ]
  },
  {
   "cell_type": "code",
   "execution_count": 29,
   "metadata": {
    "scrolled": true
   },
   "outputs": [
    {
     "name": "stdout",
     "output_type": "stream",
     "text": [
      "This is hello()\n",
      "End of function\n",
      "\tTHis is greet() inside hello()\n",
      "This is hello()\n",
      "End of function\n",
      "\tThis is welcome() inside hello()\n"
     ]
    }
   ],
   "source": [
    "def hello(name = \"Randy\"):\n",
    "    print('This is hello()')\n",
    "    \n",
    "    def greet():\n",
    "        return '\\tTHis is greet() inside hello()'\n",
    "    \n",
    "    def welcome():\n",
    "        return '\\tThis is welcome() inside hello()'\n",
    "    greet()\n",
    "    welcome()\n",
    "    print('End of function')\n",
    "    \n",
    "    if name == 'Randy':\n",
    "        return greet\n",
    "    else:\n",
    "        return welcome\n",
    "\n",
    "# only defined inside hello so doesnot work\n",
    "# greet() \n",
    "\n",
    "# assign the function returned to new_func\n",
    "new_func = hello()\n",
    "\n",
    "# prints and execturs the returned function(ie. greet)\n",
    "print(new_func())\n",
    "\n",
    "# assign the function returned to new_func\n",
    "new_func = hello('Mandy')\n",
    "\n",
    "# prints and execturs the returned function(ie. welcome)\n",
    "print(new_func())\n"
   ]
  },
  {
   "cell_type": "code",
   "execution_count": 42,
   "metadata": {
    "scrolled": false
   },
   "outputs": [
    {
     "name": "stdout",
     "output_type": "stream",
     "text": [
      "Run a new func here\n",
      "Hello again\n"
     ]
    }
   ],
   "source": [
    "\n",
    "def hello():\n",
    "    return 'Hello again'\n",
    "\n",
    "def a_new_hello(a_def):\n",
    "    print('Run a new func here')\n",
    "    print(a_def())\n",
    "    \n",
    "a_new_hello(hello)\n",
    "\n",
    "\n"
   ]
  },
  {
   "cell_type": "code",
   "execution_count": 77,
   "metadata": {
    "scrolled": false
   },
   "outputs": [
    {
     "name": "stdout",
     "output_type": "stream",
     "text": [
      "<function outer_func.<locals>.inner_func at 0x000002317EB9A678>\n",
      "<function outer_func.<locals>.inner_func at 0x000002317EB9AE58>\n",
      "Hi\n",
      "Bye\n"
     ]
    }
   ],
   "source": [
    "# Decorator example\n",
    "'''\n",
    "def outer_func():\n",
    "    message = 'Hi'\n",
    "    def inner_func():\n",
    "        return message\n",
    "#     Return executed function\n",
    "#     return inner_func()\n",
    "#     Return unexecuted function\n",
    "    return inner_func\n",
    "# outer_func()\n",
    "my_func = outer_func()\n",
    "print(my_func())\n",
    "'''\n",
    "def outer_func(msg):\n",
    "    def inner_func():\n",
    "        return msg\n",
    "#     Return executed function\n",
    "#     return inner_func()\n",
    "#     Return unexecuted function\n",
    "    return inner_func\n",
    "\n",
    "hi_func = outer_func('Hi')\n",
    "bye_func = outer_func('Bye')\n",
    "\n",
    "print(hi_func)\n",
    "print(bye_func)\n",
    "\n",
    "print(hi_func())\n",
    "print(bye_func())\n"
   ]
  },
  {
   "cell_type": "code",
   "execution_count": 88,
   "metadata": {
    "scrolled": true
   },
   "outputs": [
    {
     "name": "stdout",
     "output_type": "stream",
     "text": [
      "Wrapper executed before the display_func\n",
      "this is display function/Original function!\n"
     ]
    }
   ],
   "source": [
    "# Decorator example\n",
    "\n",
    "def decorator_func(orig_func):\n",
    "    def wrapper_func():\n",
    "        print(f'Wrapper executed before the {orig_func.__name__}')\n",
    "        return  orig_func()\n",
    "    return wrapper_func\n",
    "\n",
    "@decorator_func\n",
    "def display_func():\n",
    "    print('this is display function/Original function!')\n",
    "\n",
    "# decorated_display = decorator_func(display_func)\n",
    "# decorated_display()\n",
    "\n",
    "display_func()\n",
    "\n",
    "\n",
    "#@decorator_func is equal to decorated_display = decorator_func(display_func)\n",
    "\n"
   ]
  },
  {
   "cell_type": "code",
   "execution_count": 106,
   "metadata": {
    "scrolled": true
   },
   "outputs": [
    {
     "name": "stdout",
     "output_type": "stream",
     "text": [
      "Wrapper executed before the display_func\n",
      "This is display function/Original function!\n",
      "\n",
      "Wrapper executed before the display_info\n",
      "Mandy is 20 years old\n"
     ]
    }
   ],
   "source": [
    "# Function Decorator \n",
    "# Used often\n",
    "\n",
    "def decorator_func(orig_func):\n",
    "    def wrapper_func(*args):\n",
    "        print(f'Wrapper executed before the {orig_func.__name__}')\n",
    "        return  orig_func(*args)\n",
    "    return wrapper_func\n",
    "\n",
    "@decorator_func\n",
    "def display_func():\n",
    "    print('This is display function/Original function!')\n",
    "\n",
    "@decorator_func\n",
    "def display_info(name,age):\n",
    "    print(f'{name} is {age} years old')\n",
    "\n",
    "display_func()\n",
    "print('')\n",
    "display_info('Mandy',20)"
   ]
  },
  {
   "cell_type": "code",
   "execution_count": 107,
   "metadata": {},
   "outputs": [
    {
     "name": "stdout",
     "output_type": "stream",
     "text": [
      "Call method executed before the display_info\n",
      "Mandy is 20 years old\n"
     ]
    }
   ],
   "source": [
    "# Class Decorator\n",
    "# Used less\n",
    "\n",
    "class decorator_class(object):\n",
    "    def __init__(self,original_func):\n",
    "        self.original_func = original_func\n",
    "        \n",
    "    def __call__(self,*args,**kwargs):\n",
    "        print(f'Call method executed before the {self.original_func.__name__}')\n",
    "        return  self.original_func(*args)\n",
    "\n",
    "    \n",
    "\n",
    "@decorator_class\n",
    "def display_info(name,age):\n",
    "    print(f'{name} is {age} years old')\n",
    "\n",
    "display_info('Mandy',20)"
   ]
  },
  {
   "cell_type": "code",
   "execution_count": null,
   "metadata": {},
   "outputs": [],
   "source": [
    "\n",
    "def my_timer(original_func):\n",
    "    import time\n",
    "    \n",
    "    def wrapper(*args):\n",
    "        t1 = time.time()\n",
    "        result = original_func(*args)\n",
    "        t2 = time.time() - t1\n",
    "        print(f'The {original_func.__name__} ran in {t2} seconds')\n",
    "        return result\n",
    "    \n",
    "    return wrapper\n",
    "    \n",
    "\n",
    "@my_timer\n",
    "def display_info(name,age):\n",
    "    a = 0\n",
    "    for i in range(100000000000000):\n",
    "        a = a+1\n",
    "    print(f'{name} is {age} years old')\n",
    "    \n",
    "display_info('Rama',30)"
   ]
  }
 ],
 "metadata": {
  "kernelspec": {
   "display_name": "Python 3",
   "language": "python",
   "name": "python3"
  },
  "language_info": {
   "codemirror_mode": {
    "name": "ipython",
    "version": 3
   },
   "file_extension": ".py",
   "mimetype": "text/x-python",
   "name": "python",
   "nbconvert_exporter": "python",
   "pygments_lexer": "ipython3",
   "version": "3.7.4"
  }
 },
 "nbformat": 4,
 "nbformat_minor": 2
}
