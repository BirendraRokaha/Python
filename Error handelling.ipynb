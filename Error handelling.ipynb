{
 "cells": [
  {
   "cell_type": "code",
   "execution_count": null,
   "metadata": {},
   "outputs": [],
   "source": [
    "# Errors and Exception handelling\n",
    "\n",
    "def add(a,b):\n",
    "    return a+b\n",
    "    \n",
    "a = 10\n",
    "b = '20'\n",
    "\n",
    "try:\n",
    "    c = add(a,b)\n",
    "    \n",
    "except TypeError:\n",
    "    print('There is a type error.')\n",
    "\n",
    "except:\n",
    "    print('Error not related to type.')\n",
    "\n",
    "else:\n",
    "    print(f'Sum of {a} and {b} is {c}.')"
   ]
  },
  {
   "cell_type": "code",
   "execution_count": null,
   "metadata": {},
   "outputs": [],
   "source": [
    "def input_int():\n",
    "    while True:\n",
    "        try:\n",
    "            num = int(input(\"Enter a number: \"))\n",
    "\n",
    "        except:\n",
    "            print('Input a number')\n",
    "            continue\n",
    "        \n",
    "        else:\n",
    "            print('number entered')\n",
    "            break\n",
    "\n",
    "#         finally:\n",
    "#             print('this finally runs anyway')\n",
    "\n",
    "\n",
    "\n",
    "input_int()"
   ]
  },
  {
   "cell_type": "code",
   "execution_count": 17,
   "metadata": {},
   "outputs": [
    {
     "name": "stdout",
     "output_type": "stream",
     "text": [
      "\n",
      "not readable\n"
     ]
    }
   ],
   "source": [
    "\n",
    "try:\n",
    "    with open('test.txt','w') as testfile:\n",
    "        print(testfile.read())\n",
    "    \n",
    "except Exception as e:\n",
    "    print(e)\n",
    "\n",
    "else:\n",
    "    with open('test.txt','a') as testfile:\n",
    "        testfile.write('This is a test file created in python.')\n",
    "        \n",
    "    with open('test.txt','r') as testfile:\n",
    "        print(testfile.read())\n",
    "\n",
    "# finally:\n",
    "#     with open('test.txt','r') as testfile:\n",
    "#         print(testfile.read())\n",
    "\n",
    "\n",
    "\n",
    "\n"
   ]
  }
 ],
 "metadata": {
  "kernelspec": {
   "display_name": "Python 3",
   "language": "python",
   "name": "python3"
  },
  "language_info": {
   "codemirror_mode": {
    "name": "ipython",
    "version": 3
   },
   "file_extension": ".py",
   "mimetype": "text/x-python",
   "name": "python",
   "nbconvert_exporter": "python",
   "pygments_lexer": "ipython3",
   "version": "3.7.4"
  }
 },
 "nbformat": 4,
 "nbformat_minor": 2
}
