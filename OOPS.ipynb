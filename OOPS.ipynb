{
 "cells": [
  {
   "cell_type": "code",
   "execution_count": 34,
   "metadata": {},
   "outputs": [
    {
     "name": "stdout",
     "output_type": "stream",
     "text": [
      "The name is Bon and age is 22. Their email is Bon@organization.com\n",
      "The name is Ron and age is 23. Their email is Ron@organization.com\n",
      "The name is Bon and age is 23. Their email is Bon@organization.com\n",
      "The name is David and age is 33. Their email is David@organization.com\n"
     ]
    }
   ],
   "source": [
    "# Basic OOP syntax in python\n",
    "\n",
    "class Person():\n",
    "    \n",
    "    # ATTRIBUTES\n",
    "    # CLASS attribure : applies to all instance of the class\n",
    "    \n",
    "    kingdom = 'Animal'\n",
    "    \n",
    "    # USER DEFINED ARREIBUTES\n",
    "    def __init__(self,name,age):\n",
    "        self.name = name\n",
    "        self.age = age\n",
    "        #\n",
    "        self.email = name +'@organization.com'\n",
    "    \n",
    "    # METHODS\n",
    "    def disp_all(self):\n",
    "        # REFERENCE self.var_name \n",
    "        print(f'The name is {self.name} and age is {self.age}. Their email is {self.email}')\n",
    "        \n",
    "    def change_age(self,age):\n",
    "        # self.age is old value and age is new passed value\n",
    "        self.age = age\n",
    "        \n",
    "person_001 = Person(name = 'Bon', age = 22)\n",
    "person_002 = Person('Ron',23)\n",
    "person_001.disp_all()\n",
    "person_002.disp_all()\n",
    "\n",
    "person_001.change_age(23)\n",
    "person_001.disp_all()\n",
    "person_003 = Person(age = 33 , name = 'David')\n",
    "person_003.disp_all()\n",
    "\n",
    "# person_xxx.kingdom is class variable so same for all involved\n",
    "# print(f'the kingdom for person is {person_001.kingdom}')\n"
   ]
  },
  {
   "cell_type": "code",
   "execution_count": 35,
   "metadata": {},
   "outputs": [
    {
     "name": "stdout",
     "output_type": "stream",
     "text": [
      "The name is Alex and age is 20. Their email is Alex@organization.com\n",
      "the role is Manager and their salary is 50000\n"
     ]
    }
   ],
   "source": [
    "class Employee(Person):\n",
    "    \n",
    "    def __init__(self,name,age,role,salary):\n",
    "        super().__init__(name,age) # add the parameters form the parent class\n",
    "        self.role = role\n",
    "        self.salary = salary\n",
    "    \n",
    "    def emp_status(self):\n",
    "        print(f'the role is {self.role} and their salary is {self.salary}')\n",
    "\n",
    "\n",
    "\n",
    "Emp_001 = Employee('Alex',20,'Manager',50000)   \n",
    "Emp_001.disp_all()\n",
    "Emp_001.emp_status()"
   ]
  },
  {
   "cell_type": "code",
   "execution_count": null,
   "metadata": {},
   "outputs": [],
   "source": []
  },
  {
   "cell_type": "code",
   "execution_count": 42,
   "metadata": {},
   "outputs": [
    {
     "name": "stdout",
     "output_type": "stream",
     "text": [
      "The book To Kill a Mockingbird by Harper Lee has been deleted\n",
      "The book A Game of Thrones was written by George RR Martin and was published in 1998.\n",
      "The book To Kill a Mockingbird was written by Harper Lee and was published in 1934.\n",
      "The book A Game of Thrones by George RR Martin has been deleted\n"
     ]
    }
   ],
   "source": [
    "class Book():\n",
    "    def __init__(self,title,author,year):\n",
    "        self.title = title\n",
    "        self.author = author\n",
    "        self.year = year\n",
    "        \n",
    "    # Speacial method DUNDER Method   \n",
    "    def __str__(self):\n",
    "        return f'The book {self.title} was written by {self.author} and was published in {self.year}.'\n",
    "    \n",
    "    def __del__(self):\n",
    "        print(f'The book {self.title} by {self.author} has been deleted') \n",
    "    \n",
    "book_001 = Book('A Game of Thrones', 'George RR Martin', 1998)\n",
    "book_002 = Book('To Kill a Mockingbird','Harper Lee',1934)\n",
    "print(book_001)\n",
    "print(book_002)\n",
    "\n",
    "del book_001\n",
    "\n",
    "# print(book_001)"
   ]
  }
 ],
 "metadata": {
  "kernelspec": {
   "display_name": "Python 3",
   "language": "python",
   "name": "python3"
  },
  "language_info": {
   "codemirror_mode": {
    "name": "ipython",
    "version": 3
   },
   "file_extension": ".py",
   "mimetype": "text/x-python",
   "name": "python",
   "nbconvert_exporter": "python",
   "pygments_lexer": "ipython3",
   "version": "3.7.4"
  }
 },
 "nbformat": 4,
 "nbformat_minor": 2
}
