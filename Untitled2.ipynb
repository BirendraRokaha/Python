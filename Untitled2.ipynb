{
 "cells": [
  {
   "cell_type": "code",
   "execution_count": null,
   "metadata": {},
   "outputs": [],
   "source": [
    "def totalPrice(price,tipP,taxP):\n",
    "    tip = price*(tipP/100)\n",
    "    tax = price*(taxP/100)\n",
    "    total = price + tip + tax\n",
    "    print(round(total))\n",
    "\n",
    "totalPrice(12,20,8)"
   ]
  },
  {
   "cell_type": "code",
   "execution_count": null,
   "metadata": {},
   "outputs": [],
   "source": [
    "n = int(input(\"Enter the number of rows \")) + 1\n",
    "for i in range(1, n):\n",
    "    x = '#'\n",
    "    for j in range(n, 0, -1):\n",
    "        if j > i:\n",
    "            print(\" \", end=' ')\n",
    "        else:\n",
    "            print(x, end=' ')\n",
    "            #x += '#'\n",
    "    print(\"\")\n",
    "    "
   ]
  },
  {
   "cell_type": "code",
   "execution_count": null,
   "metadata": {},
   "outputs": [],
   "source": [
    "n = 10\n",
    "for i in range(1, n+1):\n",
    "    for j in range(n,0,-1):\n",
    "        if j>i:\n",
    "            print(\" \",end = '')\n",
    "        else:\n",
    "            print(\"#\", end = '')\n",
    "    print(\"\")\n",
    "        "
   ]
  },
  {
   "cell_type": "code",
   "execution_count": null,
   "metadata": {},
   "outputs": [],
   "source": [
    "arr= [1,2,3,4,5]\n",
    "tot = sum(arr)\n",
    "print(tot)\n",
    "maxsum , minsum = 0,0\n",
    "x , y = 0, arr[0]\n",
    "for i in range(len(arr)):\n",
    "    if x < arr[i]: x= arr[i]\n",
    "    if y > arr[i]: y= arr[i]\n",
    "maxsum = tot - x\n",
    "minsum = tot -y\n",
    "print (maxsum, minsum)\n",
    "    \n",
    "        \n",
    "    "
   ]
  },
  {
   "cell_type": "code",
   "execution_count": null,
   "metadata": {},
   "outputs": [],
   "source": [
    "class Person:\n",
    "    def __init__(self,initialAge):\n",
    "        # Add some more code to run some checks on initialAge\n",
    "        initialAge = age\n",
    "\n",
    "        if initialAge < 0:\n",
    "            print(\"Age is not valid, setting age to 0.\")\n",
    "            initialAge = 0 \n",
    "\n",
    "    def amIOld(self):\n",
    "        # Do some computations in here and print out the correct statement to the console\n",
    "        initialAge = age\n",
    "        if initialAge < 13:\n",
    "            print(\"You are young\")\n",
    "        if initialAge >= 13 and initialAge < 18:\n",
    "            print(\"You are teenager\")\n",
    "        if initialAge > 18:\n",
    "            print(\"You are old\")\n",
    "        \n",
    "    def yearPasses(self):\n",
    "        # Increment the age of the person in here\n",
    "        initialAge = age\n",
    "        initialAge += t\n",
    "        if initialAge < 13:\n",
    "            print(\"You are young\")\n",
    "        if initialAge >= 13 and initialAge < 18:\n",
    "            print(\"You are teenager\")\n",
    "        if initialAge > 18:\n",
    "            print(\"You are old\")\n",
    "\n",
    "t = int(input())\n",
    "for i in range(0, t):\n",
    "    age = int(input())         \n",
    "    p = Person(age)  \n",
    "    p.amIOld()\n",
    "    for j in range(0, 3):\n",
    "        p.yearPasses()       \n",
    "    p.amIOld()\n",
    "    print(\"\")"
   ]
  },
  {
   "cell_type": "code",
   "execution_count": null,
   "metadata": {
    "scrolled": true
   },
   "outputs": [],
   "source": [
    "class Person:\n",
    "    def __init__(self,initialAge):\n",
    "        # Add some more code to run some checks on initialAge\n",
    "        initialAge = age\n",
    "\n",
    "        if initialAge < 0:\n",
    "            print(\"Age is not valid, setting age to 0.\")\n",
    "            initialAge = 0 \n",
    "\n",
    "    def amIOld(self):\n",
    "        # Do some computations in here and print out the correct statement to the console\n",
    "        initialAge = age\n",
    "        if initialAge < 13:\n",
    "            print(\"You are young\")\n",
    "        elif initialAge >= 13 and initialAge < 18:\n",
    "            print(\"You are teenager\")\n",
    "        else:\n",
    "            print(\"You are old\")\n",
    "        \n",
    "    def yearPasses(self):\n",
    "        # Increment the age of the person in here\n",
    "        initialAge = age\n",
    "        initialAge += 1\n",
    "        if initialAge < 13:\n",
    "            print(\"You are young\")\n",
    "        elif initialAge >= 13 and initialAge < 18:\n",
    "            print(\"You are teenager\")\n",
    "        else:\n",
    "            print(\"You are old\")\n",
    "\n",
    "t = int(input())\n",
    "for i in range(0, t):\n",
    "    age = int(input())         \n",
    "    p = Person(age)  \n",
    "    p.amIOld()\n",
    "    for j in range(0, 3):\n",
    "        p.yearPasses()       \n",
    "    p.amIOld()\n",
    "    print(\"\")"
   ]
  },
  {
   "cell_type": "code",
   "execution_count": null,
   "metadata": {},
   "outputs": [],
   "source": [
    "s = '12:45:54PM'\n",
    "if s[0:2] =='12' and s[-2] == 'A':\n",
    "    a = '00'\n",
    "    b = int(s[0:2])\n",
    "    c = s[2:-2]\n",
    "    d = a + c\n",
    "    print(d) \n",
    "    \n",
    "if s[-2] == 'A' and s[0:2] !='12':\n",
    "    print(s[:-2])\n",
    "\n",
    "if s[0:2] =='12' and s[-2] == 'P':\n",
    "    d = s[:-2]\n",
    "    print(d) \n",
    "    \n",
    "if s[-2] == 'P' and s[-2] != 'P':\n",
    "    b = int(s[0:2])\n",
    "    c = s[2:-2]\n",
    "    t = b+12\n",
    "    d = str(t) + c\n",
    "    print(d)"
   ]
  },
  {
   "cell_type": "code",
   "execution_count": null,
   "metadata": {},
   "outputs": [],
   "source": [
    "\n",
    "def timeConversion(s):\n",
    "    \n",
    "    if s[0:2] == '12' and s[-2] == 'P':    \n",
    "        d = s[:-2]\n",
    "        print('y')\n",
    "\n",
    "    if s[0:2] =='12' and s[-2] == 'A' and s[-2] != 'P':\n",
    "        a = '00'\n",
    "        b = int(s[0:2])\n",
    "        c = s[2:-2]\n",
    "        d = a + c\n",
    "    \n",
    "    if s[-2] == 'A' and s[0:2] !='12':\n",
    "        d = s[:-2]\n",
    "\n",
    "    if s[-2] == 'P' and s[0:2] != '12':    \n",
    "        b = int(s[0:2])\n",
    "        c = s[2:-2]\n",
    "        t = b+12\n",
    "        d = str(t) + c \n",
    "   \n",
    "    return d\n",
    "\n",
    "\n",
    "#s = input()\n",
    "s = '12:45:54PM'\n",
    "\n",
    "result = timeConversion(s)\n",
    "\n",
    "print(result)"
   ]
  },
  {
   "cell_type": "code",
   "execution_count": null,
   "metadata": {
    "scrolled": true
   },
   "outputs": [],
   "source": [
    "S = 'Hacker'\n",
    "a,b = '',''\n",
    "for i in range(len(S)):\n",
    "    if i % 2 == 0:\n",
    "        a = a + S[i]\n",
    "    else:\n",
    "        b = b + S[i]\n",
    "print(f\"{a} {b}\")\n"
   ]
  },
  {
   "cell_type": "code",
   "execution_count": null,
   "metadata": {},
   "outputs": [],
   "source": [
    "n = int(input())\n",
    "arr = []\n",
    "for i in range(n):\n",
    "    arr[i] = int(input())\n",
    "#print(*arr[::])\n"
   ]
  },
  {
   "cell_type": "code",
   "execution_count": null,
   "metadata": {
    "scrolled": true
   },
   "outputs": [],
   "source": [
    "n = 4\n",
    "grades = [73,67,38,33]\n",
    "arr = []\n",
    "for i in range(len(grades)):\n",
    "    a = grades[i]\n",
    "    b = (a//5)*5\n",
    "    c = b + 5\n",
    "    if c - grades[i]  < 3 and c > 38:\n",
    "        arr.append(c)\n",
    "    else:\n",
    "        arr.append(grades[i])\n",
    "for j in arr:\n",
    "    print(j)"
   ]
  },
  {
   "cell_type": "code",
   "execution_count": null,
   "metadata": {},
   "outputs": [],
   "source": [
    "x1 , v1 , x2 , v2 =  0,3,4,2\n",
    "\n",
    "for i in range(10000):\n",
    "    x1 += v1\n",
    "    x2 += v2\n",
    "    if x1 == x2:\n",
    "        print ('YES')\n",
    "        break\n",
    "if x1 != x2 :print('NO')        \n",
    "\n"
   ]
  },
  {
   "cell_type": "code",
   "execution_count": null,
   "metadata": {},
   "outputs": [],
   "source": [
    "# insert dictionaries\n",
    "# n = int(input())\n",
    "# name_numbers = [input().split() for _ in range(n)]\n",
    "# phoneBook ={k:v for k, v in name_numbers}\n",
    "\n",
    "\n",
    "n = int(input())\n",
    "pB = {}\n",
    "\n",
    "for i in range(n):\n",
    "    data = list(input().rstrip().split())\n",
    "    pB[data[0]] = data[1]\n",
    "\n",
    "pBK = pB.keys()\n",
    "\n",
    "while True:\n",
    "    try:\n",
    "        name = input()\n",
    "        if name in pBK:\n",
    "            print(f\"{name}={pB[name]}\")\n",
    "        else:\n",
    "            print(\"Not found\")\n",
    "    except:\n",
    "        break\n"
   ]
  },
  {
   "cell_type": "code",
   "execution_count": null,
   "metadata": {},
   "outputs": [],
   "source": [
    "a , b = 3 , 5\n",
    "i, j = 1, 1 \n",
    "c , d = a , b \n",
    "while c != d:\n",
    "    c = a*i\n",
    "    d = b*j\n",
    "    if c == d:\n",
    "        print(c)\n",
    "        break\n",
    "    i += a\n",
    "    j += b\n",
    "    "
   ]
  },
  {
   "cell_type": "code",
   "execution_count": null,
   "metadata": {
    "scrolled": true
   },
   "outputs": [],
   "source": [
    "n = 3\n",
    "a, b = 1, 1\n",
    "for i in range(1,n+1):\n",
    "    a = a* i \n",
    "print(a)"
   ]
  },
  {
   "cell_type": "code",
   "execution_count": null,
   "metadata": {
    "scrolled": true
   },
   "outputs": [],
   "source": [
    "n = 13\n",
    "a, i, b = [] , 0, 0\n",
    "while n  > 1:\n",
    "    b = int(n % 2)\n",
    "    a.append(b)\n",
    "    n = n / 2\n",
    "    i += 1\n",
    "a.reverse()\n",
    "print(a)\n",
    "c,d = 0, 0 \n",
    "for i in range(len(a)):\n",
    "    if a[i] == 0:\n",
    "        c = 0\n",
    "    else:\n",
    "        c += 1\n",
    "        d = max(c,d)\n",
    "        \n",
    "print(d)\n",
    "       "
   ]
  },
  {
   "cell_type": "code",
   "execution_count": null,
   "metadata": {},
   "outputs": [],
   "source": [
    "n = 512\n",
    "i,a,b = 1, [] , 0\n",
    "while i <50:\n",
    "    b = 2 ** i\n",
    "    a.append(b)\n",
    "    i += 1\n",
    "if n in a:\n",
    "    print(f'{n} is power of 2')\n",
    "else:\n",
    "    print(f'{n} is not power of 2')"
   ]
  },
  {
   "cell_type": "code",
   "execution_count": 19,
   "metadata": {},
   "outputs": [
    {
     "name": "stdout",
     "output_type": "stream",
     "text": [
      "19\n"
     ]
    }
   ],
   "source": [
    "# 2d array\n",
    "\n",
    "# function adds the numbres from all the given array in Hourglass format.\n",
    "def getSum(arr,r,c):\n",
    "    sum = 0\n",
    "    sum +=arr[r-1][c-1]\n",
    "    sum +=arr[r-1][c]\n",
    "    sum +=arr[r-1][c+1]\n",
    "    sum +=arr[r][c]\n",
    "    sum +=arr[r+1][c-1]\n",
    "    sum +=arr[r+1][c]\n",
    "    sum +=arr[r+1][c+1]\n",
    "    return sum\n",
    "    \n",
    "#given array\n",
    "arr = [[1, 1, 1, 0, 0, 0], [0, 1, 0, 0, 0, 0], [1, 1, 1, 0, 0, 0], [0, 0, 2, 4, 4, 0], [0, 0, 0, 2, 0, 0], [0, 0, 1, 2, 4, 0]]\n",
    "\n",
    "cms,nms = 0,0\n",
    "\n",
    "#find out the maximum in given sums\n",
    "for i in range(1,5):\n",
    "    for j in range(1,5):\n",
    "        cms = getSum(arr,i,j)\n",
    "        if cms > nms:\n",
    "            nms = cms\n",
    "print(nms)\n",
    "\n",
    "        \n",
    "\n",
    "            "
   ]
  },
  {
   "cell_type": "code",
   "execution_count": null,
   "metadata": {},
   "outputs": [],
   "source": [
    "class Cat:\n",
    "    def meow(self):\n",
    "        print('Mewo Meow')"
   ]
  },
  {
   "cell_type": "code",
   "execution_count": 28,
   "metadata": {
    "scrolled": true
   },
   "outputs": [
    {
     "name": "stdout",
     "output_type": "stream",
     "text": [
      "3\n",
      "1 2 3 4 5\n",
      "4\n"
     ]
    }
   ],
   "source": [
    "## class Difference:\n",
    "#     def __init__(self, a):\n",
    "#         self.__elements = a\n",
    "#     import math\n",
    "#     # Add your code here\n",
    "#     def computeDifference(self):\n",
    "#         x1,x2,x3 = [] , 0, 0\n",
    "#         for i in range(len(a)):\n",
    "#             x2 = a[i]\n",
    "#             for j in range(len(a)):\n",
    "#                 x3 = a[j]-x2\n",
    "#                 x1.append(abs(x3))\n",
    "#         return max(x1) \n",
    "\n",
    "\n",
    "#     def maximumDifference(self):\n",
    "#         x1 = self.computeDifference()\n",
    "#         return x1\n",
    "\n",
    "#     # End of Difference class\n",
    "# n = 3 \n",
    "# a = [1,2,5,6,7,8]\n",
    "\n",
    "# d = Difference(a)\n",
    "# d.computeDifference()\n",
    "\n",
    "# print(d.maximumDifference())\n",
    "\n",
    "\n",
    "class Difference:\n",
    "    def __init__(self, a):\n",
    "        self.__elements = a\n",
    "\n",
    "    # Add your code here\n",
    "    def computeDifference(self):\n",
    "        self.maximumDifference = max(self.__elements) - min(self.__elements)\n",
    "\n",
    "# End of Difference class\n",
    "\n",
    "n = input()\n",
    "a = [int(e) for e in input().split(' ')]\n",
    "\n",
    "d = Difference(a)\n",
    "d.computeDifference()\n",
    "\n",
    "print(d.maximumDifference)"
   ]
  },
  {
   "cell_type": "code",
   "execution_count": 10,
   "metadata": {
    "scrolled": true
   },
   "outputs": [
    {
     "name": "stdout",
     "output_type": "stream",
     "text": [
      "1\n",
      "2\n",
      "3\n",
      "4\n"
     ]
    },
    {
     "ename": "AttributeError",
     "evalue": "'Solution' object has no attribute 'current'",
     "output_type": "error",
     "traceback": [
      "\u001b[1;31m---------------------------------------------------------------------------\u001b[0m",
      "\u001b[1;31mAttributeError\u001b[0m                            Traceback (most recent call last)",
      "\u001b[1;32m<ipython-input-10-f3a789388a99>\u001b[0m in \u001b[0;36m<module>\u001b[1;34m\u001b[0m\n\u001b[0;32m     22\u001b[0m     \u001b[0mdata\u001b[0m\u001b[1;33m=\u001b[0m\u001b[0mint\u001b[0m\u001b[1;33m(\u001b[0m\u001b[0minput\u001b[0m\u001b[1;33m(\u001b[0m\u001b[1;33m)\u001b[0m\u001b[1;33m)\u001b[0m\u001b[1;33m\u001b[0m\u001b[1;33m\u001b[0m\u001b[0m\n\u001b[0;32m     23\u001b[0m     \u001b[0mhead\u001b[0m\u001b[1;33m=\u001b[0m\u001b[0mmylist\u001b[0m\u001b[1;33m.\u001b[0m\u001b[0minsert\u001b[0m\u001b[1;33m(\u001b[0m\u001b[0mhead\u001b[0m\u001b[1;33m,\u001b[0m\u001b[0mdata\u001b[0m\u001b[1;33m)\u001b[0m\u001b[1;33m\u001b[0m\u001b[1;33m\u001b[0m\u001b[0m\n\u001b[1;32m---> 24\u001b[1;33m \u001b[0mprint\u001b[0m\u001b[1;33m(\u001b[0m\u001b[0mmylist\u001b[0m\u001b[1;33m.\u001b[0m\u001b[0mcurrent\u001b[0m\u001b[1;33m)\u001b[0m\u001b[1;33m\u001b[0m\u001b[1;33m\u001b[0m\u001b[0m\n\u001b[0m\u001b[0;32m     25\u001b[0m \u001b[0mmylist\u001b[0m\u001b[1;33m.\u001b[0m\u001b[0mdisplay\u001b[0m\u001b[1;33m(\u001b[0m\u001b[0mhead\u001b[0m\u001b[1;33m)\u001b[0m\u001b[1;33m\u001b[0m\u001b[1;33m\u001b[0m\u001b[0m\n",
      "\u001b[1;31mAttributeError\u001b[0m: 'Solution' object has no attribute 'current'"
     ]
    }
   ],
   "source": [
    "class Node:\n",
    "    def __init__(self,data):\n",
    "        self.data = data\n",
    "        self.next = None \n",
    "class Solution: \n",
    "    def display(self,head):\n",
    "        current = head\n",
    "        while current:\n",
    "            print(current.data,end=' ')\n",
    "            current = current.next\n",
    "\n",
    "    def insert(self,head,data): \n",
    "    #Complete this method\n",
    "        \n",
    "        \n",
    "\n",
    "mylist= Solution()\n",
    "\n",
    "T=4\n",
    "head=None\n",
    "for i in range(T):\n",
    "    data=int(input())\n",
    "    head=mylist.insert(head,data)\n",
    "mylist.display(head)"
   ]
  },
  {
   "cell_type": "code",
   "execution_count": 2,
   "metadata": {
    "scrolled": true
   },
   "outputs": [
    {
     "name": "stdout",
     "output_type": "stream",
     "text": [
      "3\n",
      "3\n"
     ]
    }
   ],
   "source": [
    "#Day 16s\n",
    "#String to intiger error handelling\n",
    "#https://stackoverflow.com/questions/8075877/converting-string-to-int-using-try-except-in-python/8075959\n",
    "import sys\n",
    "S = input().strip()\n",
    "\n",
    "try:\n",
    "    a = int(S)\n",
    "    print(a)\n",
    "except ValueError:\n",
    "    # Handle the exception\n",
    "    print('Bad String')"
   ]
  },
  {
   "cell_type": "code",
   "execution_count": 9,
   "metadata": {},
   "outputs": [
    {
     "name": "stdout",
     "output_type": "stream",
     "text": [
      "1\n",
      "-2 1\n",
      "n and p should be non-negative\n"
     ]
    }
   ],
   "source": [
    "#Day 17\n",
    "#More Exceptions\n",
    "\n",
    "#Write your code here\n",
    "class Calculator:\n",
    "    def __init__(self):\n",
    "        pass\n",
    "\n",
    "    def power(self,n , p):\n",
    "        ans, e =0,''\n",
    "        if n >= 0 and p >= 0:\n",
    "            ans = n**p\n",
    "            return ans\n",
    "        else:\n",
    "            e = 'n and p should be non-negative'\n",
    "            return e\n",
    "            \n",
    "\n",
    "myCalculator=Calculator()\n",
    "T=int(input())\n",
    "for i in range(T):\n",
    "    n,p = map(int, input().split())\n",
    "    try:\n",
    "        ans=myCalculator.power(n,p)\n",
    "        print(ans)\n",
    "    except Exception as e:\n",
    "        print(e)   "
   ]
  },
  {
   "cell_type": "code",
   "execution_count": 28,
   "metadata": {},
   "outputs": [
    {
     "name": "stdout",
     "output_type": "stream",
     "text": [
      "race\n",
      "The word, race, is not a palindrome.\n"
     ]
    }
   ],
   "source": [
    "#Day 18 Queues and Stacks\n",
    "import sys\n",
    "\n",
    "from collections import deque\n",
    "class Solution:\n",
    "   \n",
    "    # Write your code here\n",
    "    def __init__(self):\n",
    "        self.stack = list()\n",
    "        self.queue = deque()\n",
    "        \n",
    "    def pushCharacter(self,c):\n",
    "        self.stack.append(c)\n",
    "        \n",
    "    def enqueueCharacter(self,c):\n",
    "        self.queue.append(c)\n",
    "       \n",
    "    def popCharacter(self):\n",
    "        return self.stack.pop()\n",
    "     \n",
    "    def dequeueCharacter(self):\n",
    "        return self.queue.popleft()\n",
    "        \n",
    "\n",
    "# read the string s\n",
    "s=input()\n",
    "#Create the Solution class object\n",
    "obj=Solution()   \n",
    "\n",
    "l=len(s)\n",
    "# push/enqueue all the characters of string s to stack\n",
    "for i in range(l):\n",
    "    obj.pushCharacter(s[i])\n",
    "    obj.enqueueCharacter(s[i])\n",
    "    \n",
    "isPalindrome=True\n",
    "'''\n",
    "pop the top character from stack\n",
    "dequeue the first character from queue\n",
    "compare both the characters\n",
    "''' \n",
    "for i in range(l // 2):\n",
    "    if obj.popCharacter()!=obj.dequeueCharacter():\n",
    "        isPalindrome=False\n",
    "        break\n",
    "#finally print whether string s is palindrome or not.\n",
    "if isPalindrome:\n",
    "    print(\"The word, \"+s+\", is a palindrome.\")\n",
    "else:\n",
    "    print(\"The word, \"+s+\", is not a palindrome.\")    "
   ]
  },
  {
   "cell_type": "code",
   "execution_count": null,
   "metadata": {},
   "outputs": [],
   "source": [
    "## Day 19:Interfaces\n",
    "class AdvancedArithmetic(object):\n",
    "    def divisorSum(n):\n",
    "        raise NotImplementedError\n",
    "\n",
    "class Calculator(AdvancedArithmetic):\n",
    "    def divisorSum(self, n):\n",
    "        self.n = n\n",
    "        nsum = 0\n",
    "        for i in range(1,n+1):\n",
    "            if n % i == 0:\n",
    "                nsum += i\n",
    "        return nsum \n",
    "\n",
    "n = int(input())\n",
    "my_calculator = Calculator()\n",
    "s = my_calculator.divisorSum(n)\n",
    "print(\"I implemented: \" + type(my_calculator).__bases__[0].__name__)\n",
    "print(s)"
   ]
  },
  {
   "cell_type": "code",
   "execution_count": 53,
   "metadata": {
    "scrolled": true
   },
   "outputs": [
    {
     "name": "stdout",
     "output_type": "stream",
     "text": [
      "[1, 2, 3, 5, 6, 7, 8, 9, 9]\n",
      "Array is sorted in 12 swaps.\n",
      "First Element: 1\n",
      "Last Element: 9\n"
     ]
    }
   ],
   "source": [
    "#day 20 sorting\n",
    "n = 3\n",
    "a = [3,5,6,7,8,9,9,1,2]\n",
    "# b = []\n",
    "# b = a\n",
    "# b.sort()\n",
    "# print(b)\n",
    "swap=0\n",
    "for i in range(len(a)):\n",
    "    for j in range(i+1):\n",
    "        #print(a[j],a[i])\n",
    "        if a[j]>a[i]:\n",
    "            a[i],a[j] = a[j] , a[i]\n",
    "            swap += 1\n",
    "print(a)\n",
    "print(f'Array is sorted in {swap} swaps.')\n",
    "print(f'First Element: {a[0]}')\n",
    "print(f'Last Element: {a[-1]}')"
   ]
  },
  {
   "cell_type": "code",
   "execution_count": 102,
   "metadata": {
    "scrolled": false
   },
   "outputs": [
    {
     "name": "stdout",
     "output_type": "stream",
     "text": [
      "False\n",
      "False\n",
      "False\n",
      "False\n",
      "False\n",
      "False\n",
      "False\n",
      "False\n",
      "False\n",
      "False\n",
      "False\n",
      "False\n",
      "False\n",
      "False\n",
      "False\n",
      "False\n"
     ]
    }
   ],
   "source": [
    "#Between two sets\n",
    "n=[2,4]\n",
    "m=[16,32,96]\n",
    "count=0\n",
    "x,y,z = [],[],[]\n",
    "# for i in range(len(n)):\n",
    "for j in range(1,min(m)+1):\n",
    "    print(all([i % nA == 0 for nA in n]))\n",
    " \n",
    "\n",
    "# print(x)\n",
    "# # for a in x:\n",
    "# #     if m[0] % a == 0 and m[0] % a ==0 and m[0] % a ==0:\n",
    "# #         y.append(a)\n",
    "# # print(y)\n",
    "\n",
    "# for a in m:\n",
    "#     for i in range(len(x)):\n",
    "#         if a % x[i] == 0:\n",
    "#             print(x[i],a)\n",
    "            \n",
    "            \n",
    "#between# print(y)"
   ]
  },
  {
   "cell_type": "code",
   "execution_count": 10,
   "metadata": {
    "scrolled": false
   },
   "outputs": [
    {
     "name": "stdout",
     "output_type": "stream",
     "text": [
      "4\n",
      "True True 1\n",
      "5\n",
      "False False 1\n",
      "6\n",
      "False False 1\n",
      "7\n",
      "False False 1\n",
      "8\n",
      "True True 2\n",
      "9\n",
      "False False 2\n",
      "10\n",
      "False False 2\n",
      "11\n",
      "False False 2\n",
      "12\n",
      "True False 2\n",
      "13\n",
      "False False 2\n",
      "14\n",
      "False False 2\n",
      "15\n",
      "False False 2\n",
      "16\n",
      "True True 3\n"
     ]
    }
   ],
   "source": [
    "#between two sets\n",
    "\n",
    "a=[2,4]\n",
    "b=[16,32,96]\n",
    "\n",
    "maxA = max(a)\n",
    "minB = min(b)\n",
    "count = 0\n",
    "for num in range(maxA, minB + 1):\n",
    "    c = all([num % numA == 0 for numA in a])\n",
    "    d = all([numB % num == 0 for numB in b])\n",
    "    count += c*d\n",
    "    print(num)\n",
    "    print(c,d,count)"
   ]
  },
  {
   "cell_type": "code",
   "execution_count": 23,
   "metadata": {},
   "outputs": [
    {
     "name": "stdout",
     "output_type": "stream",
     "text": [
      "42 3\n",
      "4 0\n"
     ]
    }
   ],
   "source": [
    "#Breaking the records\n",
    "\n",
    "scores= [3, 4, 21, 36, 10, 28, 35, 5, 24, 42]\n",
    "\n",
    "high = scores[0]\n",
    "low = scores[0]\n",
    "increasehHigh = 0\n",
    "increaseLow = 0\n",
    "for score in scores:\n",
    "    ls = score\n",
    "    if score > high:\n",
    "        high = score\n",
    "        increasehHigh += 1\n",
    "    if score < low:\n",
    "        low = score\n",
    "        print('plus')\n",
    "        increaseLow += 1\n",
    "       \n",
    "print(high,low)\n",
    "print(increasehHigh,increaseLow)"
   ]
  },
  {
   "cell_type": "code",
   "execution_count": 62,
   "metadata": {
    "scrolled": false
   },
   "outputs": [
    {
     "name": "stdout",
     "output_type": "stream",
     "text": [
      "[1, 2, 3]\n",
      "[4, 'x', 6]\n",
      "[7, 8, 9]\n",
      "<class 'int'>\n",
      "<class 'int'>\n",
      "<class 'int'>\n",
      "<class 'int'>\n",
      "<class 'str'>\n",
      "<class 'int'>\n",
      "<class 'int'>\n",
      "<class 'int'>\n",
      "<class 'int'>\n",
      "40\n"
     ]
    }
   ],
   "source": [
    "s = [[1,2,3],\n",
    "     [4,'x',6],\n",
    "     [7,8,9]]\n",
    "   \n",
    "for a in s:\n",
    "    print(a)\n",
    "msum = 0    \n",
    "for i in range(len(s)):\n",
    "    for j in range(len(s)):\n",
    "        print(type(s[i][j]))\n",
    "        if type(s[i][j]) == int:\n",
    "            msum +=s[i][j]\n",
    "        if msum < 45:\n",
    "            \n",
    "print(msum)\n",
    "\n"
   ]
  },
  {
   "cell_type": "code",
   "execution_count": 18,
   "metadata": {},
   "outputs": [
    {
     "name": "stdout",
     "output_type": "stream",
     "text": [
      "2 0\n",
      "3 1\n",
      "4 2\n",
      "5 3\n",
      "6 4\n",
      "2\n"
     ]
    }
   ],
   "source": [
    "#Birthday Chocolate\n",
    "\n",
    "s=[2,2,1,3,2]\n",
    "d, m = 4,2\n",
    "count = 0\n",
    "x = len(s)\n",
    "r = 0\n",
    "\n",
    "for i in range(x):\n",
    "    r = m + i\n",
    "    print(r,i)\n",
    "    if sum(s[i:r]) == d:\n",
    "        count += 1\n",
    "print(count)\n"
   ]
  },
  {
   "cell_type": "code",
   "execution_count": null,
   "metadata": {},
   "outputs": [],
   "source": [
    "#Day 22 Binary search\n",
    "\n",
    "class Node:\n",
    "    def __init__(self,data):\n",
    "        self.right=self.left=None\n",
    "        self.data = data\n",
    "class Solution:\n",
    "    def insert(self,root,data):\n",
    "        if root==None:\n",
    "            return Node(data)\n",
    "        else:\n",
    "            if data<=root.data:\n",
    "                cur=self.insert(root.left,data)\n",
    "                root.left=cur\n",
    "            else:\n",
    "                cur=self.insert(root.right,data)\n",
    "                root.right=cur\n",
    "        return root\n",
    "\n",
    "    def getHeight(self,root):\n",
    "        #Write your code here\n",
    "        if not root:\n",
    "            return -1\n",
    "        if not root.left and not root.right:\n",
    "            return 0\n",
    "        lH = self.getHeight(root.left)\n",
    "        rH = self.getHeight(root.right)\n",
    "\n",
    "        return max(lH,rH) + 1\n",
    "\n",
    "T=int(input())\n",
    "myTree=Solution()\n",
    "root=None\n",
    "for i in range(T):\n",
    "    data=int(input())\n",
    "    root=myTree.insert(root,data)\n",
    "height=myTree.getHeight(root)\n",
    "print(height)       "
   ]
  },
  {
   "cell_type": "code",
   "execution_count": 7,
   "metadata": {},
   "outputs": [
    {
     "name": "stdout",
     "output_type": "stream",
     "text": [
      "5\n"
     ]
    }
   ],
   "source": [
    "#Divisible sum pairs\n",
    "ar = [1 ,3 ,2 ,6 ,1 ,2]\n",
    "k = 3\n",
    "count,a = 0,0\n",
    "for i in range(len(ar)):\n",
    "    for j in range(i+1,len(ar)):\n",
    "#     if i >j:\n",
    "        a = ar[i] + ar[j]\n",
    "        if a % k == 0:\n",
    "            count += 1\n",
    "print(count)"
   ]
  },
  {
   "cell_type": "code",
   "execution_count": 1,
   "metadata": {
    "scrolled": true
   },
   "outputs": [
    {
     "name": "stdout",
     "output_type": "stream",
     "text": [
      "['ajit', 'bjit', 'cjit', 'rita']\n"
     ]
    }
   ],
   "source": [
    "# Day 23: BST level -order transversal\n",
    "name = [\"ajit\",'bjit','cjit']\n",
    "name.append('rita')\n",
    "print(name)"
   ]
  },
  {
   "cell_type": "code",
   "execution_count": 30,
   "metadata": {},
   "outputs": [
    {
     "name": "stdout",
     "output_type": "stream",
     "text": [
      "Not prime\n",
      "Not prime\n",
      "Prime\n",
      "Prime\n",
      "Not prime\n",
      "Not prime\n",
      "Not prime\n",
      "Not prime\n",
      "Not prime\n",
      "Prime\n",
      "Not prime\n"
     ]
    }
   ],
   "source": [
    "#Day 23:Running time and complexicity\n",
    "import math\n",
    "T = 3\n",
    "arr = [1,12,5,7,9,8,134,7345,846,43,51]\n",
    "def prime(n):\n",
    "    if n <= 1:\n",
    "        return False\n",
    "    n_sq = math.sqrt(n)\n",
    "#     if n_sq.is_intiger():\n",
    "#         return False\n",
    "    for i in range(2,int(n_sq)+1):\n",
    "        if n % i == 0:\n",
    "            return False\n",
    "    return True\n",
    "    \n",
    "            \n",
    "                \n",
    "for n in arr:\n",
    "    if prime(n):\n",
    "        print('Prime')\n",
    "    else:\n",
    "        print('Not prime')\n"
   ]
  },
  {
   "cell_type": "code",
   "execution_count": 9,
   "metadata": {
    "scrolled": false
   },
   "outputs": [
    {
     "name": "stdout",
     "output_type": "stream",
     "text": [
      "@gmail.com\n",
      "user@gmail.com\n"
     ]
    }
   ],
   "source": [
    "#Day 28: RegEx, Patterns, and Intro to Databases\n",
    "\n",
    "N = int(input())\n",
    "arr = []\n",
    "for N_itr in range(N):\n",
    "    firstNameEmailID = input().split()\n",
    "    firstName = firstNameEmailID[0]\n",
    "    emailID = firstNameEmailID[1]\n",
    "    if (emailID[-10:]) == '@gmail.com':\n",
    "        arr.append(firstName)\n",
    "arr.sort()\n",
    "for a in arr:\n",
    "    print(a)\n"
   ]
  },
  {
   "cell_type": "code",
   "execution_count": 14,
   "metadata": {},
   "outputs": [
    {
     "name": "stdout",
     "output_type": "stream",
     "text": [
      "True\n"
     ]
    }
   ],
   "source": [
    "#Day 29 Bitwise AND\n",
    "def max_value(n,k):\n",
    "    m_b = 0\n",
    "    for i in range(1,n+1):\n",
    "        for j in range(1,i):\n",
    "            bitw = i & j\n",
    "            if m_b < bitw < k :\n",
    "                m_b = bitw\n",
    "                if m_b == k-1:\n",
    "                    return m_b\n",
    "    \n",
    "    return m_b\n",
    "\n",
    "\n",
    "\n",
    "if __name__ == '__main__':\n",
    "    t = int(input())\n",
    "\n",
    "    for t_itr in range(t):\n",
    "        nk = input().split()\n",
    "        n = int(nk[0])\n",
    "        k = int(nk[1])\n",
    "        \n",
    "        print(max_value(n,k))"
   ]
  },
  {
   "cell_type": "code",
   "execution_count": 19,
   "metadata": {
    "scrolled": true
   },
   "outputs": [
    {
     "name": "stdout",
     "output_type": "stream",
     "text": [
      "1\n",
      "4\n",
      "4\n",
      "4\n",
      "5\n",
      "3\n",
      "3\n",
      "Counter({4: 3, 3: 2, 1: 1, 5: 1})\n",
      "1 1\n",
      "4 3\n",
      "5 1\n",
      "3 2\n",
      "5\n"
     ]
    }
   ],
   "source": [
    "#Migratory Birds\n",
    "import collections\n",
    "\n",
    "a = [1, 4, 4, 4, 5, 3,3]\n",
    "\n",
    "for i in a:\n",
    "    print(i)\n",
    "    \n",
    "counter=collections.Counter(a)\n",
    "print(counter)\n",
    "for x,y in counter.items():\n",
    "    print(x,y)\n",
    "print(max(counter.keys()))"
   ]
  },
  {
   "cell_type": "code",
   "execution_count": 74,
   "metadata": {
    "scrolled": false
   },
   "outputs": [
    {
     "name": "stdout",
     "output_type": "stream",
     "text": [
      "12.09.2020\n"
     ]
    }
   ],
   "source": [
    "# Day of the programmer\n",
    "year = 2020\n",
    "# if year < 1918:\n",
    "#     if year % 4 == 0:\n",
    "#         x = True\n",
    "#     else:\n",
    "#         x = False\n",
    "\n",
    "# else:        \n",
    "if (year % 4) == 0:  \n",
    "    if (year % 100) == 0:  \n",
    "        if (year % 400) == 0:  \n",
    "            x = True \n",
    "        else:  \n",
    "            x = False       \n",
    "    else:  \n",
    "        x = True\n",
    "else:  \n",
    "    x = False\n",
    "    \n",
    "if x is True:\n",
    "    print(f\"12.09.{year}\")\n",
    "if x is False:\n",
    "    print(f\"13.09.{year}\")\n",
    "    \n",
    "    \n",
    "# method 2\n",
    "\n",
    "if (year == 1918):\n",
    "        return '26.09.1918'\n",
    "elif ((year <= 1917) & (year%4 == 0)) or ((year > 1918) & (year%400 == 0 or ((year%4 == 0) & (year%100 != 0)))):\n",
    "    return f\"12.09.{year}\"\n",
    "else:\n",
    "    return f\"13.09.{year}\""
   ]
  },
  {
   "cell_type": "code",
   "execution_count": 80,
   "metadata": {
    "scrolled": true
   },
   "outputs": [
    {
     "name": "stdout",
     "output_type": "stream",
     "text": [
      "[1, 3, 4, 5]\n"
     ]
    }
   ],
   "source": [
    "# Bon appetit\n",
    "\n",
    "del bill[k]\n",
    "a = sum(bill)\n",
    "c = a/2\n",
    "if c == b:\n",
    "    print(\"Bon Appetit\")\n",
    "else:\n",
    "    print(int(b-c))"
   ]
  },
  {
   "cell_type": "code",
   "execution_count": 127,
   "metadata": {
    "scrolled": true
   },
   "outputs": [
    {
     "name": "stdout",
     "output_type": "stream",
     "text": [
      "[1, 1, 1, 1, 2, 3, 3, 3, 3, 3]\n",
      "4\n"
     ]
    }
   ],
   "source": [
    "# sock merchant\n",
    "\n",
    "ar = [1, 1, 3, 1, 2, 1, 3, 3, 3, 3]\n",
    "ar.sort()\n",
    "print(ar)\n",
    "a,i = 0,0\n",
    "b = len(ar)\n",
    "while i < b-1:\n",
    "        if ar[i] == ar[i+1]:\n",
    "            a +=1\n",
    "            i += 2\n",
    "        else:\n",
    "            i += 1\n",
    "print(a)"
   ]
  },
  {
   "cell_type": "code",
   "execution_count": 2,
   "metadata": {},
   "outputs": [
    {
     "name": "stdout",
     "output_type": "stream",
     "text": [
      "1\n"
     ]
    }
   ],
   "source": [
    "# Drawing book\n",
    "\n",
    "n = 6\n",
    "p = 2\n",
    "\n",
    "a1 = n//2\n",
    "a2 = p // 2\n",
    "a3 = a1-a2\n",
    "\n",
    "print(min(a3,a2))"
   ]
  }
 ],
 "metadata": {
  "kernelspec": {
   "display_name": "Python 3",
   "language": "python",
   "name": "python3"
  },
  "language_info": {
   "codemirror_mode": {
    "name": "ipython",
    "version": 3
   },
   "file_extension": ".py",
   "mimetype": "text/x-python",
   "name": "python",
   "nbconvert_exporter": "python",
   "pygments_lexer": "ipython3",
   "version": "3.7.4"
  }
 },
 "nbformat": 4,
 "nbformat_minor": 2
}
