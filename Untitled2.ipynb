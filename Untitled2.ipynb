{
 "cells": [
  {
   "cell_type": "code",
   "execution_count": null,
   "metadata": {},
   "outputs": [],
   "source": [
    "def totalPrice(price,tipP,taxP):\n",
    "    tip = price*(tipP/100)\n",
    "    tax = price*(taxP/100)\n",
    "    total = price + tip + tax\n",
    "    print(round(total))\n",
    "\n",
    "totalPrice(12,20,8)"
   ]
  },
  {
   "cell_type": "code",
   "execution_count": null,
   "metadata": {},
   "outputs": [],
   "source": []
  },
  {
   "cell_type": "code",
   "execution_count": null,
   "metadata": {},
   "outputs": [],
   "source": [
    "n = int(input(\"Enter the number of rows \")) + 1\n",
    "for i in range(1, n):\n",
    "    x = '#'\n",
    "    for j in range(n, 0, -1):\n",
    "        if j > i:\n",
    "            print(\" \", end=' ')\n",
    "        else:\n",
    "            print(x, end=' ')\n",
    "            #x += '#'\n",
    "    print(\"\")\n",
    "    "
   ]
  },
  {
   "cell_type": "code",
   "execution_count": null,
   "metadata": {},
   "outputs": [],
   "source": [
    "n = 10\n",
    "for i in range(1, n+1):\n",
    "    for j in range(n,0,-1):\n",
    "        if j>i:\n",
    "            print(\" \",end = '')\n",
    "        else:\n",
    "            print(\"#\", end = '')\n",
    "    print(\"\")\n",
    "        "
   ]
  },
  {
   "cell_type": "code",
   "execution_count": null,
   "metadata": {},
   "outputs": [],
   "source": [
    "arr= [1,2,3,4,5]\n",
    "tot = sum(arr)\n",
    "print(tot)\n",
    "maxsum , minsum = 0,0\n",
    "x , y = 0, arr[0]\n",
    "for i in range(len(arr)):\n",
    "    if x < arr[i]: x= arr[i]\n",
    "    if y > arr[i]: y= arr[i]\n",
    "maxsum = tot - x\n",
    "minsum = tot -y\n",
    "print (maxsum, minsum)\n",
    "    \n",
    "        \n",
    "    "
   ]
  },
  {
   "cell_type": "code",
   "execution_count": null,
   "metadata": {},
   "outputs": [],
   "source": [
    "class Person:\n",
    "    def __init__(self,initialAge):\n",
    "        # Add some more code to run some checks on initialAge\n",
    "        initialAge = age\n",
    "\n",
    "        if initialAge < 0:\n",
    "            print(\"Age is not valid, setting age to 0.\")\n",
    "            initialAge = 0 \n",
    "\n",
    "    def amIOld(self):\n",
    "        # Do some computations in here and print out the correct statement to the console\n",
    "        initialAge = age\n",
    "        if initialAge < 13:\n",
    "            print(\"You are young\")\n",
    "        if initialAge >= 13 and initialAge < 18:\n",
    "            print(\"You are teenager\")\n",
    "        if initialAge > 18:\n",
    "            print(\"You are old\")\n",
    "        \n",
    "    def yearPasses(self):\n",
    "        # Increment the age of the person in here\n",
    "        initialAge = age\n",
    "        initialAge += t\n",
    "        if initialAge < 13:\n",
    "            print(\"You are young\")\n",
    "        if initialAge >= 13 and initialAge < 18:\n",
    "            print(\"You are teenager\")\n",
    "        if initialAge > 18:\n",
    "            print(\"You are old\")\n",
    "\n",
    "t = int(input())\n",
    "for i in range(0, t):\n",
    "    age = int(input())         \n",
    "    p = Person(age)  \n",
    "    p.amIOld()\n",
    "    for j in range(0, 3):\n",
    "        p.yearPasses()       \n",
    "    p.amIOld()\n",
    "    print(\"\")"
   ]
  },
  {
   "cell_type": "code",
   "execution_count": null,
   "metadata": {
    "scrolled": true
   },
   "outputs": [],
   "source": [
    "class Person:\n",
    "    def __init__(self,initialAge):\n",
    "        # Add some more code to run some checks on initialAge\n",
    "        initialAge = age\n",
    "\n",
    "        if initialAge < 0:\n",
    "            print(\"Age is not valid, setting age to 0.\")\n",
    "            initialAge = 0 \n",
    "\n",
    "    def amIOld(self):\n",
    "        # Do some computations in here and print out the correct statement to the console\n",
    "        initialAge = age\n",
    "        if initialAge < 13:\n",
    "            print(\"You are young\")\n",
    "        elif initialAge >= 13 and initialAge < 18:\n",
    "            print(\"You are teenager\")\n",
    "        else:\n",
    "            print(\"You are old\")\n",
    "        \n",
    "    def yearPasses(self):\n",
    "        # Increment the age of the person in here\n",
    "        initialAge = age\n",
    "        initialAge += 1\n",
    "        if initialAge < 13:\n",
    "            print(\"You are young\")\n",
    "        elif initialAge >= 13 and initialAge < 18:\n",
    "            print(\"You are teenager\")\n",
    "        else:\n",
    "            print(\"You are old\")\n",
    "\n",
    "t = int(input())\n",
    "for i in range(0, t):\n",
    "    age = int(input())         \n",
    "    p = Person(age)  \n",
    "    p.amIOld()\n",
    "    for j in range(0, 3):\n",
    "        p.yearPasses()       \n",
    "    p.amIOld()\n",
    "    print(\"\")"
   ]
  },
  {
   "cell_type": "code",
   "execution_count": null,
   "metadata": {},
   "outputs": [],
   "source": [
    "s = '12:45:54PM'\n",
    "if s[0:2] =='12' and s[-2] == 'A':\n",
    "    a = '00'\n",
    "    b = int(s[0:2])\n",
    "    c = s[2:-2]\n",
    "    d = a + c\n",
    "    print(d) \n",
    "    \n",
    "if s[-2] == 'A' and s[0:2] !='12':\n",
    "    print(s[:-2])\n",
    "\n",
    "if s[0:2] =='12' and s[-2] == 'P':\n",
    "    d = s[:-2]\n",
    "    print(d) \n",
    "    \n",
    "if s[-2] == 'P' and s[-2] != 'P':\n",
    "    b = int(s[0:2])\n",
    "    c = s[2:-2]\n",
    "    t = b+12\n",
    "    d = str(t) + c\n",
    "    print(d)"
   ]
  },
  {
   "cell_type": "code",
   "execution_count": null,
   "metadata": {},
   "outputs": [],
   "source": [
    "\n",
    "def timeConversion(s):\n",
    "    \n",
    "    if s[0:2] == '12' and s[-2] == 'P':    \n",
    "        d = s[:-2]\n",
    "        print('y')\n",
    "\n",
    "    if s[0:2] =='12' and s[-2] == 'A' and s[-2] != 'P':\n",
    "        a = '00'\n",
    "        b = int(s[0:2])\n",
    "        c = s[2:-2]\n",
    "        d = a + c\n",
    "    \n",
    "    if s[-2] == 'A' and s[0:2] !='12':\n",
    "        d = s[:-2]\n",
    "\n",
    "    if s[-2] == 'P' and s[0:2] != '12':    \n",
    "        b = int(s[0:2])\n",
    "        c = s[2:-2]\n",
    "        t = b+12\n",
    "        d = str(t) + c \n",
    "   \n",
    "    return d\n",
    "\n",
    "\n",
    "#s = input()\n",
    "s = '12:45:54PM'\n",
    "\n",
    "result = timeConversion(s)\n",
    "\n",
    "print(result)"
   ]
  },
  {
   "cell_type": "code",
   "execution_count": null,
   "metadata": {
    "scrolled": true
   },
   "outputs": [],
   "source": [
    "S = 'Hacker'\n",
    "a,b = '',''\n",
    "for i in range(len(S)):\n",
    "    if i % 2 == 0:\n",
    "        a = a + S[i]\n",
    "    else:\n",
    "        b = b + S[i]\n",
    "print(f\"{a} {b}\")\n"
   ]
  },
  {
   "cell_type": "code",
   "execution_count": null,
   "metadata": {},
   "outputs": [],
   "source": [
    "n = int(input())\n",
    "arr = []\n",
    "for i in range(n):\n",
    "    arr[i] = int(input())\n",
    "#print(*arr[::])\n"
   ]
  },
  {
   "cell_type": "code",
   "execution_count": null,
   "metadata": {
    "scrolled": true
   },
   "outputs": [],
   "source": [
    "n = 4\n",
    "grades = [73,67,38,33]\n",
    "arr = []\n",
    "for i in range(len(grades)):\n",
    "    a = grades[i]\n",
    "    b = (a//5)*5\n",
    "    c = b + 5\n",
    "    if c - grades[i]  < 3 and c > 38:\n",
    "        arr.append(c)\n",
    "    else:\n",
    "        arr.append(grades[i])\n",
    "for j in arr:\n",
    "    print(j)"
   ]
  },
  {
   "cell_type": "code",
   "execution_count": null,
   "metadata": {},
   "outputs": [],
   "source": [
    "x1 , v1 , x2 , v2 =  0,3,4,2\n",
    "\n",
    "for i in range(10000):\n",
    "    x1 += v1\n",
    "    x2 += v2\n",
    "    if x1 == x2:\n",
    "        print ('YES')\n",
    "        break\n",
    "if x1 != x2 :print('NO')        \n",
    "\n"
   ]
  },
  {
   "cell_type": "code",
   "execution_count": null,
   "metadata": {},
   "outputs": [],
   "source": [
    "# insert dictionaries\n",
    "# n = int(input())\n",
    "# name_numbers = [input().split() for _ in range(n)]\n",
    "# phoneBook ={k:v for k, v in name_numbers}\n",
    "\n",
    "\n",
    "n = int(input())\n",
    "pB = {}\n",
    "\n",
    "for i in range(n):\n",
    "    data = list(input().rstrip().split())\n",
    "    pB[data[0]] = data[1]\n",
    "\n",
    "pBK = pB.keys()\n",
    "\n",
    "while True:\n",
    "    try:\n",
    "        name = input()\n",
    "        if name in pBK:\n",
    "            print(f\"{name}={pB[name]}\")\n",
    "        else:\n",
    "            print(\"Not found\")\n",
    "    except:\n",
    "        break\n"
   ]
  },
  {
   "cell_type": "code",
   "execution_count": null,
   "metadata": {},
   "outputs": [],
   "source": [
    "a , b = 3 , 5\n",
    "i, j = 1, 1 \n",
    "c , d = a , b \n",
    "while c != d:\n",
    "    c = a*i\n",
    "    d = b*j\n",
    "    if c == d:\n",
    "        print(c)\n",
    "        break\n",
    "    i += a\n",
    "    j += b\n",
    "    "
   ]
  },
  {
   "cell_type": "code",
   "execution_count": null,
   "metadata": {
    "scrolled": true
   },
   "outputs": [],
   "source": [
    "n = 3\n",
    "a, b = 1, 1\n",
    "for i in range(1,n+1):\n",
    "    a = a* i \n",
    "print(a)"
   ]
  },
  {
   "cell_type": "code",
   "execution_count": null,
   "metadata": {
    "scrolled": true
   },
   "outputs": [],
   "source": [
    "n = 13\n",
    "a, i, b = [] , 0, 0\n",
    "while n  > 1:\n",
    "    b = int(n % 2)\n",
    "    a.append(b)\n",
    "    n = n / 2\n",
    "    i += 1\n",
    "a.reverse()\n",
    "print(a)\n",
    "c,d = 0, 0 \n",
    "for i in range(len(a)):\n",
    "    if a[i] == 0:\n",
    "        c = 0\n",
    "    else:\n",
    "        c += 1\n",
    "        d = max(c,d)\n",
    "        \n",
    "print(d)\n",
    "       "
   ]
  },
  {
   "cell_type": "code",
   "execution_count": null,
   "metadata": {},
   "outputs": [],
   "source": [
    "n = 512\n",
    "i,a,b = 1, [] , 0\n",
    "while i <50:\n",
    "    b = 2 ** i\n",
    "    a.append(b)\n",
    "    i += 1\n",
    "if n in a:\n",
    "    print(f'{n} is power of 2')\n",
    "else:\n",
    "    print(f'{n} is not power of 2')"
   ]
  },
  {
   "cell_type": "code",
   "execution_count": 19,
   "metadata": {},
   "outputs": [
    {
     "name": "stdout",
     "output_type": "stream",
     "text": [
      "19\n"
     ]
    }
   ],
   "source": [
    "# 2d array\n",
    "\n",
    "# function adds the numbres from all the given array in Hourglass format.\n",
    "def getSum(arr,r,c):\n",
    "    sum = 0\n",
    "    sum +=arr[r-1][c-1]\n",
    "    sum +=arr[r-1][c]\n",
    "    sum +=arr[r-1][c+1]\n",
    "    sum +=arr[r][c]\n",
    "    sum +=arr[r+1][c-1]\n",
    "    sum +=arr[r+1][c]\n",
    "    sum +=arr[r+1][c+1]\n",
    "    return sum\n",
    "    \n",
    "#given array\n",
    "arr = [[1, 1, 1, 0, 0, 0], [0, 1, 0, 0, 0, 0], [1, 1, 1, 0, 0, 0], [0, 0, 2, 4, 4, 0], [0, 0, 0, 2, 0, 0], [0, 0, 1, 2, 4, 0]]\n",
    "\n",
    "cms,nms = 0,0\n",
    "\n",
    "#find out the maximum in given sums\n",
    "for i in range(1,5):\n",
    "    for j in range(1,5):\n",
    "        cms = getSum(arr,i,j)\n",
    "        if cms > nms:\n",
    "            nms = cms\n",
    "print(nms)\n",
    "\n",
    "        \n",
    "\n",
    "            "
   ]
  },
  {
   "cell_type": "code",
   "execution_count": null,
   "metadata": {},
   "outputs": [],
   "source": [
    "class Cat:\n",
    "    def meow(self):\n",
    "        print('Mewo Meow')"
   ]
  }
 ],
 "metadata": {
  "kernelspec": {
   "display_name": "Python 3",
   "language": "python",
   "name": "python3"
  },
  "language_info": {
   "codemirror_mode": {
    "name": "ipython",
    "version": 3
   },
   "file_extension": ".py",
   "mimetype": "text/x-python",
   "name": "python",
   "nbconvert_exporter": "python",
   "pygments_lexer": "ipython3",
   "version": "3.7.4"
  }
 },
 "nbformat": 4,
 "nbformat_minor": 2
}
