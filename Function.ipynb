{
 "cells": [
  {
   "cell_type": "code",
   "execution_count": 2,
   "metadata": {
    "scrolled": true
   },
   "outputs": [
    {
     "name": "stdout",
     "output_type": "stream",
     "text": [
      "Name: Hari\n",
      "Hello, Hari\n"
     ]
    }
   ],
   "source": [
    "#Function in Python\n",
    "\n",
    "#basic structure\n",
    "\n",
    "def function_name():\n",
    "    print(\"Hello!!\")\n",
    "\n",
    "function_name()\n"
   ]
  },
  {
   "cell_type": "code",
   "execution_count": 3,
   "metadata": {},
   "outputs": [
    {
     "name": "stdout",
     "output_type": "stream",
     "text": [
      "Hello!!\n"
     ]
    }
   ],
   "source": [
    "# basic structure passing a variable\n",
    "\n",
    "def name_of_function(a):\n",
    "    print(f\"Hello, {a}\")\n",
    "a = input(\"Name: \")\n",
    "name_of_function(a)\n"
   ]
  },
  {
   "cell_type": "code",
   "execution_count": 13,
   "metadata": {
    "scrolled": true
   },
   "outputs": [
    {
     "name": "stdout",
     "output_type": "stream",
     "text": [
      "the sum of 5 and 6 is : 30\n",
      "the sum of 5 and 6 is : 11\n"
     ]
    }
   ],
   "source": [
    "# basic return\n",
    "\n",
    "# default values\n",
    "def sum_of(a=10 ,b = 20): # default values if parameters is not provided\n",
    "    return a+b\n",
    "a = 5\n",
    "b = 6\n",
    "print(f'the sum of {a} and {b} is : {sum_of()}') # no argument provided\n",
    "\n",
    "# provided values\n",
    "def sum_of(a=10 ,b = 20): # default values if parameters is not provided\n",
    "    return a+b\n",
    "a = 5\n",
    "b = 6\n",
    "print(f'the sum of {a} and {b} is : {sum_of(a,b)}') # argument provided so return works on the values of variables provided\n"
   ]
  },
  {
   "cell_type": "code",
   "execution_count": 29,
   "metadata": {},
   "outputs": [
    {
     "name": "stdout",
     "output_type": "stream",
     "text": [
      "Even list: (4, [4, 6, 8, 2]) \n",
      "Odd List: (5, [1, 3, 5, 7, 9])\n"
     ]
    }
   ],
   "source": [
    "# indentation matters\n",
    "def odd_even(num_list):\n",
    "    even_list = []\n",
    "    odd_numbers = []\n",
    "    for n in num_list:\n",
    "        if n % 2 == 0:\n",
    "            even_list.append(n)\n",
    "        else:\n",
    "            odd_numbers.append(n)\n",
    "#             return False WRONGG!!\n",
    "    return even_list,odd_numbers\n",
    "        \n",
    "num_list = [1,3,5,4,6,8,2,7,9]\n",
    "\n",
    "print(f\"Even list: {len(odd_even(num_list)[0]),odd_even(num_list)[0]} \\nOdd List: {len(odd_even(num_list)[1]),odd_even(num_list)[1]}\")"
   ]
  },
  {
   "cell_type": "code",
   "execution_count": 40,
   "metadata": {
    "scrolled": false
   },
   "outputs": [
    {
     "name": "stdout",
     "output_type": "stream",
     "text": [
      "Best stock is TSLA with value 1000$\n",
      "Best stock is TSLA with value 1000$\n"
     ]
    }
   ],
   "source": [
    "def top_stock(stock_p):\n",
    "    t_s,s_p = 0,''\n",
    "    \n",
    "    for i,j in stock_p:\n",
    "        if j > t_s:\n",
    "            t_s = j\n",
    "            s_p = i\n",
    "    \n",
    "    return (t_s, s_p)\n",
    "\n",
    "stock_p = [('APPL',200),('TSLA',1000),('AMZN',800)]\n",
    "#not recommended method\n",
    "print(f\"Best stock is {top_stock(stock_p)[1]} with value {top_stock(stock_p)[0]}$\")\n",
    "\n",
    "# recommended structrure\n",
    "# tuple unpacking\n",
    "price,name = top_stock(stock_p)\n",
    "print(f\"Best stock is {name} with value {price}$\")\n"
   ]
  },
  {
   "cell_type": "code",
   "execution_count": 108,
   "metadata": {},
   "outputs": [
    {
     "name": "stdout",
     "output_type": "stream",
     "text": [
      "Pick a number form 1 ,2 or 32\n",
      "Better luck next time\n",
      "2\n",
      "['', '', 'O']\n"
     ]
    }
   ],
   "source": [
    "# simple game\n",
    "\n",
    "from random import *\n",
    "\n",
    "# shuffel the list\n",
    "def randomiser(top_list):\n",
    "    shuffle(top_list)\n",
    "    return top_list\n",
    "\n",
    "# player guess\n",
    "def guess():\n",
    "    guess = 0\n",
    "    while guess not in [1,2,3]:\n",
    "        guess = int(input(\"Pick a number form 1 ,2 or 3\"))\n",
    "    return guess\n",
    "\n",
    "# Game Logic\n",
    "def game(game_list,player_guess):\n",
    "    \n",
    "    if game_list[player_guess-1] == 'O':\n",
    "        print(\"You Did It!!!\")\n",
    "        print(player_guess)\n",
    "        print(game_list)\n",
    "    else:\n",
    "        print(\"Better luck next time\")\n",
    "        print(player_guess)\n",
    "        print(game_list)\n",
    "\n",
    "#top game list\n",
    "game_list = ['','O','']\n",
    "\n",
    "randomiser(game_list)\n",
    "\n",
    "player_guess = guess()\n",
    "\n",
    "game(game_list,player_guess)"
   ]
  },
  {
   "cell_type": "code",
   "execution_count": 10,
   "metadata": {
    "scrolled": true
   },
   "outputs": [
    {
     "name": "stdout",
     "output_type": "stream",
     "text": [
      "My blogs\n",
      "Welcome to my blog\n",
      "My name is bob\n",
      "blog1 My first post\n",
      "blog2 My second post\n",
      "blog3 My third post\n",
      "this function plots [2, 3, 4] and [6, 4, 8].\n"
     ]
    }
   ],
   "source": [
    "# *args **kwargs\n",
    "# * args returns a tuple\n",
    "# can add multiple arguments \n",
    "# def blog_post(title, *args): # single args but multiple values refrenced\n",
    "#     print(title)\n",
    "#     for a in args:\n",
    "#         print(a)\n",
    "\n",
    "# title= 'My blogs'\n",
    "# blog1= 'My first post'\n",
    "# blog2= 'My second post'\n",
    "# blog3= 'My third post'\n",
    "\n",
    "# blog_post(title,blog1,blog2,blog3)\n",
    "\n",
    "\n",
    "def blog_post(title, *args, **kwargs): # kwargs act as dict\n",
    "    print(title)\n",
    "    for a in args:\n",
    "        print(a)\n",
    "    for a, b in kwargs.items():\n",
    "        print(a,b)\n",
    "\n",
    "title= 'My blogs'\n",
    "sub_title1 = 'Welcome to my blog'\n",
    "sub_title2 = 'My name is bob'\n",
    "\n",
    "blog_post(title,sub_title1,sub_title2,\n",
    "                blog1= 'My first post',\n",
    "                blog2= 'My second post',\n",
    "                blog3= 'My third post')\n",
    "\n",
    "#example\n",
    "\n",
    "def plot_graph(x,y):\n",
    "    print(f'this function plots {x} and {y}.')\n",
    "x1 = [2,3,4]\n",
    "y1 = [6,4,8]\n",
    "toplot = [x1,y1]\n",
    "plot_graph(*toplot) # neat way to use *args\n",
    "\n"
   ]
  },
  {
   "cell_type": "code",
   "execution_count": 13,
   "metadata": {
    "scrolled": true
   },
   "outputs": [
    {
     "name": "stdout",
     "output_type": "stream",
     "text": [
      "185\n"
     ]
    }
   ],
   "source": [
    "# *args\n",
    "# not optimal\n",
    "# def sumofnum(a,b,c):\n",
    "#     print(sum((a,b,c)))\n",
    "# sumofnum(23,42,23)\n",
    "\n",
    "# good method\n",
    "# pass as many variables/ values as required\n",
    "def sumofnum(*args):\n",
    "    print(sum((args)))\n",
    "sumofnum(23,45,5,78,34)   "
   ]
  },
  {
   "cell_type": "code",
   "execution_count": 17,
   "metadata": {
    "scrolled": true
   },
   "outputs": [
    {
     "name": "stdout",
     "output_type": "stream",
     "text": [
      "Seb and Charls drive for Ferrari\n",
      "Max and Alex drive for RedBull\n"
     ]
    }
   ],
   "source": [
    "# **kwargs\n",
    "# like args but return dict\n",
    "def mykwargsfunc(**kwargs):\n",
    "    for a,b in kwargs.items():\n",
    "        print(f'{b[0]} and {b[1]} drive for {a}')\n",
    "mykwargsfunc(Ferrari = ['Seb','Charls'], RedBull = ['Max','Alex'] )\n"
   ]
  },
  {
   "cell_type": "code",
   "execution_count": 37,
   "metadata": {
    "scrolled": true
   },
   "outputs": [
    {
     "name": "stdout",
     "output_type": "stream",
     "text": [
      "1\n",
      "4\n",
      "9\n",
      "16\n",
      "25\n",
      "36\n",
      "49\n",
      "64\n",
      "81\n",
      "2\n",
      "4\n",
      "6\n",
      "8\n"
     ]
    }
   ],
   "source": [
    "# lamda function\n",
    "# map filter\n",
    "numlist = [1,2,3,4,5,6,7,8,9]\n",
    "\n",
    "# not the optimal method\n",
    "# def check_even(num):\n",
    "#     return num%2 ==0\n",
    "# print(list(map(sqr_num,numlist)))\n",
    "\n",
    "# for i in list(map(sqr_num,numlist)): print (i)\n",
    "\n",
    "# good method using lambda function\n",
    "for i in list(map(lambda num : num ** 2,numlist)): print(i)\n",
    "\n",
    "# not the optimal method\n",
    "# def sqr_num(num):\n",
    "#     return num**2\n",
    "# for i in filter(check_even,numlist): print(i)\n",
    "\n",
    "# good method using lambda function\n",
    "for i in list(filter(lambda num : num%2 == 0,numlist)): print(i)"
   ]
  },
  {
   "cell_type": "code",
   "execution_count": 12,
   "metadata": {
    "scrolled": true
   },
   "outputs": [
    {
     "name": "stdout",
     "output_type": "stream",
     "text": [
      "1\n",
      "4\n",
      "9\n",
      "16\n",
      "25\n",
      "36\n",
      "49\n",
      "64\n",
      "81\n",
      "\n",
      "2\n",
      "4\n",
      "6\n",
      "8\n"
     ]
    }
   ],
   "source": [
    "# lambda\n",
    "numlist = [1,2,3,4,5,6,7,8,9]\n",
    "for i in list(map(lambda num : num ** 2,numlist)): print(i)\n",
    "print(\"\")\n",
    "for i in list(filter(lambda num : num%2 == 0,numlist)): print(i)"
   ]
  },
  {
   "cell_type": "code",
   "execution_count": 3,
   "metadata": {
    "scrolled": false
   },
   "outputs": [
    {
     "name": "stdout",
     "output_type": "stream",
     "text": [
      "s='s=%r;print(s%%s)';print(s%s)\n"
     ]
    }
   ],
   "source": [
    "# Quine\n",
    "\n",
    "s='s=%r;print(s%%s)';print(s%s)"
   ]
  },
  {
   "cell_type": "code",
   "execution_count": 20,
   "metadata": {},
   "outputs": [
    {
     "name": "stdout",
     "output_type": "stream",
     "text": [
      "1 24\n",
      "24\n",
      "second\n"
     ]
    }
   ],
   "source": [
    "# Nested statements and scope\n",
    "# LEGB rule \n",
    "# Local ,Enclosing function local ,Global ,Built-in\n",
    "x = 1\n",
    "def p_x():\n",
    "    global x\n",
    "    x = 24\n",
    "    return x\n",
    "print(x,p_x())\n",
    "# global change\n",
    "print(x)\n",
    "\n",
    "name = 'first' # Global\n",
    "\n",
    "def greetfirst():\n",
    "    name = 'second' # Enclosing \n",
    "    def hello():\n",
    "        print(name) # Local\n",
    "    hello()\n",
    "greetfirst()\n"
   ]
  },
  {
   "cell_type": "code",
   "execution_count": null,
   "metadata": {},
   "outputs": [],
   "source": []
  },
  {
   "cell_type": "code",
   "execution_count": null,
   "metadata": {},
   "outputs": [],
   "source": []
  }
 ],
 "metadata": {
  "kernelspec": {
   "display_name": "Python 3",
   "language": "python",
   "name": "python3"
  },
  "language_info": {
   "codemirror_mode": {
    "name": "ipython",
    "version": 3
   },
   "file_extension": ".py",
   "mimetype": "text/x-python",
   "name": "python",
   "nbconvert_exporter": "python",
   "pygments_lexer": "ipython3",
   "version": "3.7.4"
  }
 },
 "nbformat": 4,
 "nbformat_minor": 2
}
